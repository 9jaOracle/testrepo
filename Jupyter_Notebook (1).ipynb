{
 "cells": [
  {
   "cell_type": "markdown",
   "metadata": {},
   "source": [
    "<center>\n",
    "    <img src=\"https://cf-courses-data.s3.us.cloud-object-storage.appdomain.cloud/IBMDeveloperSkillsNetwork-DS0105EN-SkillsNetwork/labs/Module2/images/SN_web_lightmode.png\" width=\"300\" alt=\"cognitiveclass.ai logo\">\n",
    "</center>\n"
   ]
  },
  {
   "cell_type": "markdown",
   "metadata": {
    "tags": []
   },
   "source": [
    "# My Jupyter Notebook on IBM Watson Studio"
   ]
  },
  {
   "cell_type": "markdown",
   "metadata": {
    "tags": []
   },
   "source": [
    "**Asadullah Muhammad**  \n",
    "Geospatial Data Analyst"
   ]
  },
  {
   "cell_type": "markdown",
   "metadata": {},
   "source": [
    "*I am interested in data science to learn how manipulate geospatial data better*"
   ]
  },
  {
   "cell_type": "markdown",
   "metadata": {},
   "source": [
    "### A simple Body Mass Index Calculator ###"
   ]
  },
  {
   "cell_type": "code",
   "execution_count": null,
   "metadata": {},
   "outputs": [],
   "source": [
    "def bodymassindex(height, weight):\n",
    "    return round((weight / height**2),2)\n",
    "\n",
    "\n",
    "h = float(input(\"Enter your height in meters: \"))\n",
    "w = float(input(\"Enter your weight in kg: \"))\n",
    "\n",
    "\n",
    "print(\"Welcome to the BMI calculator.\")\n",
    "\n",
    "bmi = bodymassindex(h, w)\n",
    "print(\"Your BMI is: \", bmi)\n",
    "\n",
    "\n",
    "if bmi <= 18.5:\n",
    "    print(\"You are underweight.\")\n",
    "elif 18.5 < bmi <= 24.9:\n",
    "    print(\"Your weight is normal.\")\n",
    "elif 25 < bmi <= 29.29:\n",
    "    print(\"You are overweight.\")\n",
    "else:\n",
    "    print(\"You are obese.\")"
   ]
  },
  {
   "cell_type": "markdown",
   "metadata": {},
   "source": [
    "|**BMI**|**Range**|**Class**|\n",
    "|------|------|------|\n",
    "|1|<18.5|**Underweight**| \n",
    "|2|18.5 to 24.9|**healthy**| \n",
    "|3|25.0 to 29.9|**Overweight**| \n",
    "|4|>30.0|**Obese**| \n",
    "\n",
    "\n",
    "\n",
    "Data Source:Center for Disease Control and Prevention [CDC](https://www.cdc.gov/healthyweight/assessing/index.html#:~:text=If%20your%20BMI%20is%20less,falls%20within%20the%20obese%20range.)"
   ]
  }
 ],
 "metadata": {
  "kernelspec": {
   "display_name": "Python",
   "language": "python",
   "name": "conda-env-python-py"
  },
  "language_info": {
   "codemirror_mode": {
    "name": "ipython",
    "version": 3
   },
   "file_extension": ".py",
   "mimetype": "text/x-python",
   "name": "python",
   "nbconvert_exporter": "python",
   "pygments_lexer": "ipython3",
   "version": "3.7.12"
  }
 },
 "nbformat": 4,
 "nbformat_minor": 4
}
