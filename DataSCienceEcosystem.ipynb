{
 "cells": [
  {
   "cell_type": "markdown",
   "id": "1da4acee-2818-450e-81f1-e8968463eabe",
   "metadata": {},
   "source": [
    "# Data Science Tools and Ecosystem #"
   ]
  },
  {
   "cell_type": "markdown",
   "id": "64a4bf08-812d-459d-a7e6-cb3d9279862d",
   "metadata": {},
   "source": [
    "**INTRODUCTION**\n",
    "\n",
    "In this notebook, Data Science Tools and Ecosystem are summarized\n"
   ]
  },
  {
   "cell_type": "markdown",
   "id": "9e4ae3ca-ee8b-45ab-9cde-f5bbff3afe72",
   "metadata": {},
   "source": [
    "**Some of the popular languages that Data Scientists use are:**\n",
    "\n",
    "1. Python  \n",
    "2. SQL (Structured Query Language)  \n",
    "3. R  \n",
    "4. Julia  \n",
    "5. JavaScript   \n",
    "6. Scala   \n",
    "7. Java   \n",
    "8. Go  \n",
    "9. MATLAB   \n",
    "10. C/C++  \n",
    "11. Statistical Analytical System (SAS)  \n"
   ]
  },
  {
   "cell_type": "markdown",
   "id": "7f299c5f-72a8-4767-9121-8ceafe1a36ae",
   "metadata": {},
   "source": [
    "**Some of the commonly used libraries used by Data Scientists include:**  \n",
    "\n",
    "Python Libraries for Data Processing and Model Deployment  \n",
    "1) Pandas  \n",
    "2) NumPy  \n",
    "3) SciPy  \n",
    "4) Sci-Kit Learn  \n",
    "5) PyCaret   \n",
    "6) Tensorflow  \n",
    "7) OpenCV  \n",
    "\n",
    "Python Libraries for Data Mining and Data Scraping  \n",
    "8) SQLAlchemy  \n",
    "9) Scrapy  \n",
    "10) BeautifulSoup   \n",
    "\n",
    "Python Libraries for Data Visualization   \n",
    "11) Matplotlib \n",
    "12) Ggplot  \n",
    "13) Plotly  \n",
    "14) Altair  \n",
    "15) Autoviz  \n",
    "\n",
    "\n",
    "R Libraries   \n",
    "1. dplyr  \n",
    "2. ggplot2  \n",
    "3. Esquisse  \n",
    "4. Shiny  \n",
    "5. mlr3  \n",
    "6. Lubridate   \n",
    "7. RCrawler  \n",
    "8. knitr     \n",
    "9. DT    \n",
    "10. Plotly  \n"
   ]
  },
  {
   "cell_type": "markdown",
   "id": "59bd3309-23e7-4871-a6b4-b76647b0dc9c",
   "metadata": {},
   "source": [
    "**Data Science Tools**\n",
    "\n",
    "1 Jupyter notebook  \n",
    "2 Rapid miner   \n",
    "3 Apache  Hadoop   \n",
    "4 Tableu  \n",
    "5 Tensor  flow  \n"
   ]
  },
  {
   "cell_type": "markdown",
   "id": "8da96459-dda5-47e8-862c-cda64f6c8822",
   "metadata": {},
   "source": [
    " ### Below are a few examples of evaluating arithmetic expressions in Python ###\n",
    "\n",
    "Addition  \n",
    "\n",
    "a = 5   \n",
    "b = 7   \n",
    "c = a + b   \n",
    "print(c)  # Output: 12  \n",
    "\n",
    "Subtraction \n",
    "\n",
    "a = 10  \n",
    "b = 4   \n",
    "c = a - b  \n",
    "print(c)  # Output: 6 \n",
    "\n",
    "\n",
    "Division  \n",
    "\n",
    "a = 20  \n",
    "b = 5  \n",
    "c = a / b  \n",
    "print(c)  # Output: 4.0 (floating-point division)   \n",
    "\n"
   ]
  },
  {
   "cell_type": "code",
   "execution_count": 5,
   "id": "aa4f4212-4524-41f6-9169-f8bb8f72fb6f",
   "metadata": {},
   "outputs": [
    {
     "data": {
      "text/plain": [
       "17"
      ]
     },
     "execution_count": 5,
     "metadata": {},
     "output_type": "execute_result"
    }
   ],
   "source": [
    "(3*4)+5\n",
    "# This a simple arithmetic expression to mutiply then add integers"
   ]
  },
  {
   "cell_type": "code",
   "execution_count": 8,
   "id": "e1c052e2-9925-441d-88aa-6a667a3dcb40",
   "metadata": {},
   "outputs": [
    {
     "name": "stdout",
     "output_type": "stream",
     "text": [
      "200 minutes is equal to 3.33 hours\n"
     ]
    }
   ],
   "source": [
    "# This will convert 200 minutes to hours by diving by 60\n",
    "minutes = 200  # change this value to the number of minutes you want to convert\n",
    "hours = minutes / 60  # convert minutes to hours\n",
    "print(f\"{minutes} minutes is equal to {hours:.2f} hours\") \n"
   ]
  },
  {
   "cell_type": "markdown",
   "id": "54be2e54-5fed-44bd-8cf3-d8b869bb54c4",
   "metadata": {},
   "source": [
    "**Objectives:**\n",
    "\n",
    "Create a markdown cell with the title of the notebook.  \n",
    "Create a markdown cell for an introduction.  \n",
    "Create a markdown cell to list data science languages.  \n",
    "Create a markdown cell to list data science libraries.    \n",
    "Create a markdown cell with a table of Data Science tools.   \n"
   ]
  },
  {
   "cell_type": "markdown",
   "id": "d970671d-231f-4df5-bbda-aed6412703ec",
   "metadata": {},
   "source": [
    "## Author ##\n",
    "Asadullah Muhammad"
   ]
  },
  {
   "cell_type": "code",
   "execution_count": null,
   "id": "cd752bf6-cdf8-4112-b3d9-89d336610f07",
   "metadata": {},
   "outputs": [],
   "source": []
  }
 ],
 "metadata": {
  "kernelspec": {
   "display_name": "Python",
   "language": "python",
   "name": "conda-env-python-py"
  },
  "language_info": {
   "codemirror_mode": {
    "name": "ipython",
    "version": 3
   },
   "file_extension": ".py",
   "mimetype": "text/x-python",
   "name": "python",
   "nbconvert_exporter": "python",
   "pygments_lexer": "ipython3",
   "version": "3.7.12"
  }
 },
 "nbformat": 4,
 "nbformat_minor": 5
}
